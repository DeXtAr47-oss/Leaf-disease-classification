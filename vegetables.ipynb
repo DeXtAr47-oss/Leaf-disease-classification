{
  "cells": [
    {
      "cell_type": "code",
      "execution_count": 1,
      "metadata": {
        "colab": {
          "base_uri": "https://localhost:8080/"
        },
        "id": "neLF-aSKHu44",
        "outputId": "1420772d-e0b4-4a2f-ff40-0eb003783e9e"
      },
      "outputs": [
        {
          "output_type": "stream",
          "name": "stdout",
          "text": [
            "Path to dataset files: /kaggle/input/plant-village\n"
          ]
        }
      ],
      "source": [
        "import torch\n",
        "import torch.nn as nn\n",
        "import torch.optim as optim\n",
        "from torchvision import datasets, transforms\n",
        "from torch.utils.data import DataLoader, random_split\n",
        "import matplotlib.pyplot as plt\n",
        "from sklearn.metrics import precision_score, recall_score\n",
        "import kagglehub\n",
        "\n",
        "# Download latest version\n",
        "path = kagglehub.dataset_download(\"arjuntejaswi/plant-village\")\n",
        "\n",
        "print(\"Path to dataset files:\", path)"
      ]
    },
    {
      "cell_type": "code",
      "source": [
        "device = torch.device('cuda' if torch.cuda.is_available() else 'cpu')\n",
        "device"
      ],
      "metadata": {
        "id": "RWvQQJNHeARV",
        "colab": {
          "base_uri": "https://localhost:8080/"
        },
        "outputId": "85b95a80-0e59-4c24-8451-e6ee81828878"
      },
      "execution_count": 2,
      "outputs": [
        {
          "output_type": "execute_result",
          "data": {
            "text/plain": [
              "device(type='cuda')"
            ]
          },
          "metadata": {},
          "execution_count": 2
        }
      ]
    },
    {
      "cell_type": "code",
      "execution_count": 3,
      "metadata": {
        "id": "8Ee7iau6Hu5D"
      },
      "outputs": [],
      "source": [
        "transform = transforms.Compose([\n",
        "    transforms.Resize((224, 224)),\n",
        "    transforms.RandomHorizontalFlip(),\n",
        "    transforms.RandomRotation(30),\n",
        "    transforms.ToTensor(),\n",
        "    transforms.Normalize([0.485, 0.456, 0.406],[0.229, 0.224, 0.225])\n",
        "])\n",
        "\n",
        "datapath = '/kaggle/input/plant-village'\n",
        "dataset = datasets.ImageFolder(root = datapath, transform = transform)"
      ]
    },
    {
      "cell_type": "code",
      "execution_count": 4,
      "metadata": {
        "id": "oswsIf8NHu5K",
        "outputId": "44ca988d-e71b-41e0-9168-699baf198a30",
        "colab": {
          "base_uri": "https://localhost:8080/"
        }
      },
      "outputs": [
        {
          "output_type": "stream",
          "name": "stdout",
          "text": [
            "16510 4128\n"
          ]
        }
      ],
      "source": [
        "train_size = int(0.8 * len(dataset))\n",
        "test_size = len(dataset) - train_size\n",
        "\n",
        "train_dataset, test_dataset = random_split(dataset, [train_size, test_size])\n",
        "print(len(train_dataset), len(test_dataset))"
      ]
    },
    {
      "cell_type": "code",
      "execution_count": 5,
      "metadata": {
        "id": "sCIfmKUNHu5P"
      },
      "outputs": [],
      "source": [
        "train_data_loader = DataLoader(train_dataset, batch_size=32, shuffle = True)\n",
        "test_data_loader = DataLoader(test_dataset, batch_size = 32, shuffle = False)"
      ]
    },
    {
      "cell_type": "code",
      "execution_count": 6,
      "metadata": {
        "id": "YyFX0-lEHu5S",
        "outputId": "8a918696-0102-4a69-be6c-934ecb5239eb",
        "colab": {
          "base_uri": "https://localhost:8080/"
        }
      },
      "outputs": [
        {
          "output_type": "stream",
          "name": "stdout",
          "text": [
            "CustomCNN(\n",
            "  (features): Sequential(\n",
            "    (0): Conv2d(3, 64, kernel_size=(3, 3), stride=(1, 1), padding=(1, 1))\n",
            "    (1): ReLU()\n",
            "    (2): MaxPool2d(kernel_size=2, stride=2, padding=0, dilation=1, ceil_mode=False)\n",
            "    (3): Conv2d(64, 128, kernel_size=(3, 3), stride=(1, 1), padding=(1, 1))\n",
            "    (4): ReLU()\n",
            "    (5): MaxPool2d(kernel_size=2, stride=2, padding=0, dilation=1, ceil_mode=False)\n",
            "    (6): Conv2d(128, 256, kernel_size=(3, 3), stride=(1, 1), padding=(1, 1))\n",
            "    (7): ReLU()\n",
            "    (8): MaxPool2d(kernel_size=2, stride=2, padding=0, dilation=1, ceil_mode=False)\n",
            "    (9): Conv2d(256, 512, kernel_size=(3, 3), stride=(1, 1), padding=(1, 1))\n",
            "    (10): ReLU()\n",
            "    (11): MaxPool2d(kernel_size=2, stride=2, padding=0, dilation=1, ceil_mode=False)\n",
            "    (12): Conv2d(512, 512, kernel_size=(3, 3), stride=(1, 1), padding=(1, 1))\n",
            "    (13): ReLU()\n",
            "    (14): MaxPool2d(kernel_size=2, stride=2, padding=0, dilation=1, ceil_mode=False)\n",
            "  )\n",
            "  (classifier): Sequential(\n",
            "    (0): Flatten(start_dim=1, end_dim=-1)\n",
            "    (1): Linear(in_features=25088, out_features=4096, bias=True)\n",
            "    (2): ReLU()\n",
            "    (3): Dropout(p=0.5, inplace=False)\n",
            "    (4): Linear(in_features=4096, out_features=2048, bias=True)\n",
            "    (5): ReLU()\n",
            "    (6): Dropout(p=0.5, inplace=False)\n",
            "    (7): Linear(in_features=2048, out_features=15, bias=True)\n",
            "  )\n",
            ")\n"
          ]
        }
      ],
      "source": [
        "class CustomCNN(nn.Module):\n",
        "    def __init__(self, out_features):\n",
        "        super(CustomCNN, self).__init__()\n",
        "\n",
        "        self.features = nn.Sequential(\n",
        "            nn.Conv2d(3, 64, kernel_size = 3, padding = 1),\n",
        "            nn.ReLU(),\n",
        "            nn.MaxPool2d(kernel_size=2, stride=2), # (3, 64, 112, 112)\n",
        "\n",
        "            nn.Conv2d(64, 128, kernel_size = 3, padding = 1),\n",
        "            nn.ReLU(),\n",
        "            nn.MaxPool2d(kernel_size=2, stride=2), # (64, 128, 56, 56)\n",
        "\n",
        "            nn.Conv2d(128, 256, kernel_size=3, padding=1),\n",
        "            nn.ReLU(),\n",
        "            nn.MaxPool2d(kernel_size=2, stride = 2), # (128, 256, 28, 28)\n",
        "\n",
        "            nn.Conv2d(256, 512, kernel_size=3, padding=1),\n",
        "            nn.ReLU(),\n",
        "            nn.MaxPool2d(kernel_size=2, stride=2), # (256, 512, 14, 14)\n",
        "\n",
        "            nn.Conv2d(512, 512, kernel_size=3, padding=1),\n",
        "            nn.ReLU(),\n",
        "            nn.MaxPool2d(kernel_size=2, stride=2) # (512, 512, 7, 7)\n",
        "        )\n",
        "\n",
        "        self.classifier = nn.Sequential(\n",
        "            nn.Flatten(),\n",
        "            nn.Linear(512 * 7 * 7, 4096),\n",
        "            nn.ReLU(),\n",
        "            nn.Dropout(0.5),\n",
        "\n",
        "            nn.Linear(4096, 2048),\n",
        "            nn.ReLU(),\n",
        "            nn.Dropout(0.5),\n",
        "            nn.Linear(2048, out_features)\n",
        "        )\n",
        "\n",
        "    def forward(self, x):\n",
        "        x = self.features(x)\n",
        "        x = self.classifier(x)\n",
        "        return x\n",
        "\n",
        "\n",
        "cnn_model = CustomCNN(out_features=15)\n",
        "cnn_model.to(device)\n",
        "print(cnn_model)\n"
      ]
    },
    {
      "cell_type": "code",
      "execution_count": 7,
      "metadata": {
        "id": "kZbUdSZvHu5V",
        "colab": {
          "base_uri": "https://localhost:8080/"
        },
        "outputId": "ee51afdc-e514-4101-b61e-a201519fd932"
      },
      "outputs": [
        {
          "output_type": "stream",
          "name": "stdout",
          "text": [
            "epochs: 1/5, training loss:  0.0053, training accuracy:  99.8062, testing loss:  0.0000, testing accuracy:  100.0000, precision: 1.0, recall: 1.0\n",
            "epochs: 2/5, training loss:  0.0000, training accuracy:  100.0000, testing loss:  0.0000, testing accuracy:  100.0000, precision: 1.0, recall: 1.0\n",
            "epochs: 3/5, training loss:  0.0000, training accuracy:  100.0000, testing loss:  0.0000, testing accuracy:  100.0000, precision: 1.0, recall: 1.0\n",
            "epochs: 4/5, training loss:  0.0000, training accuracy:  100.0000, testing loss:  0.0000, testing accuracy:  100.0000, precision: 1.0, recall: 1.0\n",
            "epochs: 5/5, training loss:  0.0000, training accuracy:  100.0000, testing loss:  0.0000, testing accuracy:  100.0000, precision: 1.0, recall: 1.0\n"
          ]
        }
      ],
      "source": [
        "def training(model, train_data_loader, test_data_loader, epochs):\n",
        "    model.train()\n",
        "    optimizer = optim.Adam(model.parameters(), lr = 0.01)\n",
        "    criterion = nn.CrossEntropyLoss()\n",
        "\n",
        "    for e in range(epochs):\n",
        "        running_loss, total, correct = 0.0, 0, 0\n",
        "        for features, lables in train_data_loader:\n",
        "            features, lables = features.to(device), lables.to(device)\n",
        "            optimizer.zero_grad()\n",
        "            outputs = model(features)\n",
        "            loss = criterion(outputs, lables)\n",
        "            loss.backward()\n",
        "            optimizer.step()\n",
        "\n",
        "            running_loss += loss.item()\n",
        "            _, predicted = outputs.max(1)\n",
        "            total += lables.size(0)\n",
        "            correct += predicted.eq(lables).sum().item()\n",
        "\n",
        "        train_acc = 100*correct/total\n",
        "        train_loss = running_loss/len(train_data_loader)\n",
        "\n",
        "        test_acc, test_loss, preds, lables = evaluate(model, test_data_loader, criterion)\n",
        "        precision = precision_score(lables, preds, average='macro')\n",
        "        recall = recall_score(lables, preds, average='macro')\n",
        "\n",
        "        print(f\"epochs: {e+1}/{epochs}, training loss: {train_loss: .4f}, training accuracy: {train_acc: .4f}, testing loss: {test_loss: .4f}, testing accuracy: {test_acc: .4f}, precision: {precision}, recall: {recall}\")\n",
        "\n",
        "def evaluate(model, test_data_loader, criterion):\n",
        "    model.eval()\n",
        "    running_loss, total, correct = 0.0, 0, 0\n",
        "\n",
        "    all_preds = []\n",
        "    all_lables = []\n",
        "\n",
        "    with torch.no_grad():\n",
        "        for features, lables in test_data_loader:\n",
        "            features, lables = features.to(device), lables.to(device)\n",
        "            output = model(features)\n",
        "            loss = criterion(output, lables)\n",
        "\n",
        "            running_loss += loss.item()\n",
        "            _, predicted = output.max(1)\n",
        "            total += lables.size(0)\n",
        "            correct += predicted.eq(lables).sum().item()\n",
        "\n",
        "            all_preds.extend(predicted.cpu().numpy())\n",
        "            all_lables.extend(lables.cpu().numpy())\n",
        "\n",
        "    test_acc = 100*correct/total\n",
        "    test_loss = running_loss/len(test_data_loader)\n",
        "\n",
        "    return test_acc, test_loss, all_preds, all_lables\n",
        "\n",
        "training(cnn_model, train_data_loader, test_data_loader, 5)"
      ]
    },
    {
      "cell_type": "code",
      "source": [
        "torch.save(cnn_model.state_dict(), 'cnn_model.pth')"
      ],
      "metadata": {
        "id": "FpVB1NQWJruu"
      },
      "execution_count": 10,
      "outputs": []
    },
    {
      "cell_type": "code",
      "source": [],
      "metadata": {
        "id": "55Pt9mSvKFYm"
      },
      "execution_count": null,
      "outputs": []
    }
  ],
  "metadata": {
    "kernelspec": {
      "display_name": "Python 3",
      "name": "python3"
    },
    "language_info": {
      "codemirror_mode": {
        "name": "ipython",
        "version": 3
      },
      "file_extension": ".py",
      "mimetype": "text/x-python",
      "name": "python",
      "nbconvert_exporter": "python",
      "pygments_lexer": "ipython3",
      "version": "3.9.21"
    },
    "colab": {
      "provenance": [],
      "gpuType": "T4"
    },
    "accelerator": "GPU"
  },
  "nbformat": 4,
  "nbformat_minor": 0
}